{
 "cells": [
  {
   "cell_type": "markdown",
   "metadata": {},
   "source": [
    "# Jupyter Markdown\n",
    "## Jupyter Markdown\n",
    "### Jupyter Markdown\n",
    "#### Jupyter Markdown\n"
   ]
  },
  {
   "cell_type": "code",
   "execution_count": 1,
   "metadata": {},
   "outputs": [
    {
     "name": "stdout",
     "output_type": "stream",
     "text": [
      "hii\n"
     ]
    }
   ],
   "source": [
    "print(\"hii\");\n"
   ]
  },
  {
   "cell_type": "markdown",
   "metadata": {},
   "source": [
    "- point 1\n",
    "    - **sub point 1.1**\n",
    "    - *sub point 1.2*\n",
    "    - ***sub point 1.3***\n",
    "    \n",
    "- point 2\n",
    "- point 3"
   ]
  },
  {
   "cell_type": "markdown",
   "metadata": {},
   "source": [
    "### python introduction\n",
    "- python 3\n",
    "- python can be used as a ***functional programming***.\n",
    "- python can be used as a ***scripting programming***.\n",
    "- python initially designed by **Guido Van Rossum** in 1991."
   ]
  },
  {
   "cell_type": "code",
   "execution_count": 2,
   "metadata": {},
   "outputs": [
    {
     "name": "stdout",
     "output_type": "stream",
     "text": [
      "hello world \n",
      "\n",
      "hiiiiiiiiiiiiiiiiiii\n"
     ]
    }
   ],
   "source": [
    "# input and output function\n",
    "# output function\n",
    "print(\"hello world \\n\")\n",
    "print(\"hiiiiiiiiiiiiiiiiiii\")"
   ]
  },
  {
   "cell_type": "code",
   "execution_count": 1,
   "metadata": {},
   "outputs": [
    {
     "name": "stdout",
     "output_type": "stream",
     "text": [
      "rdddd jkjkjkkjk\n"
     ]
    }
   ],
   "source": [
    "print(\"rdddd\",end=' ')\n",
    "print(\"jkjkjkkjk\")"
   ]
  },
  {
   "cell_type": "code",
   "execution_count": 4,
   "metadata": {},
   "outputs": [
    {
     "name": "stdout",
     "output_type": "stream",
     "text": [
      "enter ur name\n",
      " rdddd\n",
      "ur name is rdddd\n"
     ]
    }
   ],
   "source": [
    "print (\"enter ur name\")\n",
    "a=input(' ')\n",
    "print(\"ur name is\",a)"
   ]
  },
  {
   "cell_type": "code",
   "execution_count": null,
   "metadata": {},
   "outputs": [],
   "source": []
  }
 ],
 "metadata": {
  "kernelspec": {
   "display_name": "Python 3",
   "language": "python",
   "name": "python3"
  },
  "language_info": {
   "codemirror_mode": {
    "name": "ipython",
    "version": 3
   },
   "file_extension": ".py",
   "mimetype": "text/x-python",
   "name": "python",
   "nbconvert_exporter": "python",
   "pygments_lexer": "ipython3",
   "version": "3.7.3"
  }
 },
 "nbformat": 4,
 "nbformat_minor": 2
}
