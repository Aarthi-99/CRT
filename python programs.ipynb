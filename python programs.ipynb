{
 "cells": [
  {
   "cell_type": "markdown",
   "metadata": {},
   "source": [
    "### inserting an image using markdown\n",
    "## oswald on the way!!!\n",
    "![image](https://i.pinimg.com/originals/37/72/d4/3772d4d0c25ec32a63a188c10f11a80b.png)"
   ]
  },
  {
   "cell_type": "markdown",
   "metadata": {},
   "source": [
    "### inserting a site using markdown\n",
    "[site](https://www.google.com/)"
   ]
  },
  {
   "cell_type": "markdown",
   "metadata": {},
   "source": [
    "## Fundamental Data Types\n",
    "1. Int\n",
    "2. float\n",
    "3. complex\n",
    "4. boolean\n",
    "5. string\n"
   ]
  },
  {
   "cell_type": "code",
   "execution_count": 3,
   "metadata": {},
   "outputs": [
    {
     "name": "stdout",
     "output_type": "stream",
     "text": [
      "<class 'int'>\n",
      "10\n"
     ]
    }
   ],
   "source": [
    "x=10\n",
    "print(type(x))\n",
    "print(x)"
   ]
  },
  {
   "cell_type": "code",
   "execution_count": 4,
   "metadata": {},
   "outputs": [
    {
     "name": "stdout",
     "output_type": "stream",
     "text": [
      "(5+4j)\n"
     ]
    }
   ],
   "source": [
    "a=complex(5,4)\n",
    "print(a)"
   ]
  },
  {
   "cell_type": "code",
   "execution_count": 43,
   "metadata": {},
   "outputs": [
    {
     "name": "stdout",
     "output_type": "stream",
     "text": [
      "enter a ,b\n",
      "4\n",
      "5\n",
      "1\n",
      "a+b is 9\n"
     ]
    }
   ],
   "source": [
    "\n",
    "print(\"enter a ,b\")\n",
    "a=input('')\n",
    "b=input('')\n",
    "sum = int(a)+int(b)\n",
    "print(len(str(sum)))\n",
    "print(\"a+b is\",sum)"
   ]
  },
  {
   "cell_type": "code",
   "execution_count": 13,
   "metadata": {},
   "outputs": [
    {
     "name": "stdout",
     "output_type": "stream",
     "text": [
      "<class 'int'>\n",
      "<class 'complex'>\n",
      "<class 'float'>\n"
     ]
    }
   ],
   "source": [
    "a=4\n",
    "b=2+3j\n",
    "c=10.25\n",
    "print(type(a))\n",
    "print(type(b))\n",
    "print(type(c))\n"
   ]
  },
  {
   "cell_type": "code",
   "execution_count": 15,
   "metadata": {},
   "outputs": [
    {
     "name": "stdout",
     "output_type": "stream",
     "text": [
      "c1+c2= (7+9j)\n"
     ]
    }
   ],
   "source": [
    "c1=5+6j\n",
    "c2=2+3j\n",
    "print(\"c1+c2=\",c1+c2)"
   ]
  },
  {
   "cell_type": "code",
   "execution_count": 25,
   "metadata": {},
   "outputs": [
    {
     "data": {
      "text/plain": [
       "True"
      ]
     },
     "execution_count": 25,
     "metadata": {},
     "output_type": "execute_result"
    }
   ],
   "source": [
    "a=10\n",
    "b=5\n",
    "a>b"
   ]
  },
  {
   "cell_type": "code",
   "execution_count": 26,
   "metadata": {},
   "outputs": [
    {
     "name": "stdout",
     "output_type": "stream",
     "text": [
      "<class 'str'>\n",
      "<class 'str'>\n"
     ]
    }
   ],
   "source": [
    "s1=\"abc\"\n",
    "s2=\"xyz\"\n",
    "print(type(s1))\n",
    "print(type(s1))"
   ]
  },
  {
   "cell_type": "code",
   "execution_count": 29,
   "metadata": {},
   "outputs": [
    {
     "name": "stdout",
     "output_type": "stream",
     "text": [
      "<class 'str'>\n"
     ]
    }
   ],
   "source": [
    "s1=\"100\"\n",
    "print(type(s1))"
   ]
  },
  {
   "cell_type": "code",
   "execution_count": 38,
   "metadata": {},
   "outputs": [
    {
     "name": "stdout",
     "output_type": "stream",
     "text": [
      "100\n",
      "<class 'int'>\n",
      "<class 'str'>\n",
      "100\n",
      "<class 'float'>\n",
      "100.0\n"
     ]
    }
   ],
   "source": [
    "#data type conversion\n",
    "i=100\n",
    "print(i)\n",
    "print(type(i))\n",
    "s1=str(i)\n",
    "print(type(s1))\n",
    "print(s1)\n",
    "s2=float(i) \n",
    "print(type(s2))\n",
    "print(s2)\n"
   ]
  },
  {
   "cell_type": "code",
   "execution_count": 39,
   "metadata": {},
   "outputs": [
    {
     "name": "stdout",
     "output_type": "stream",
     "text": [
      "<class 'str'>\n",
      "<class 'int'>\n",
      "<class 'int'>\n",
      "2\n"
     ]
    }
   ],
   "source": [
    "s1=\"200\"\n",
    "print(type(s1))\n",
    "b=int(s1)\n",
    "print(type(b))\n",
    "f=2.5\n",
    "s=int(2.5)\n",
    "print(type(s))\n",
    "print(s)"
   ]
  },
  {
   "cell_type": "code",
   "execution_count": 40,
   "metadata": {},
   "outputs": [
    {
     "name": "stdout",
     "output_type": "stream",
     "text": [
      "7\n"
     ]
    }
   ],
   "source": [
    "## digit count\n",
    "s=2548796\n",
    "print(len(str(s)))"
   ]
  },
  {
   "cell_type": "markdown",
   "metadata": {},
   "source": [
    "### operators\n",
    "1. Arithmetic operator.........>+,-,*,/,//,%,**\n",
    "2. Logical operators.......> and,or,not\n",
    "3. Relational operators...><,>,<=,=,==,!=\n",
    "4. Membership operator....>in,not in"
   ]
  },
  {
   "cell_type": "code",
   "execution_count": 49,
   "metadata": {},
   "outputs": [
    {
     "name": "stdout",
     "output_type": "stream",
     "text": [
      "enter a and b values\n",
      "2\n",
      "3\n",
      "sum is 5\n",
      "sub is -1\n",
      "div is 0.6666666666666666\n",
      "// is 0\n",
      "mod is 2\n",
      "power is 8\n"
     ]
    }
   ],
   "source": [
    "## arithmetic operators\n",
    "print(\"enter a and b values\")\n",
    "a=input()\n",
    "b=input()\n",
    "print(\"sum is\",int(a)+int(b))\n",
    "print(\"sub is\",int(a)-int(b))\n",
    "print(\"div is\",int(a)/int(b))\n",
    "print(\"// is\",int(a)//int(b))\n",
    "print(\"mod is\",int(a)%int(b))\n",
    "print(\"power is\",int(a)**int(b))"
   ]
  },
  {
   "cell_type": "code",
   "execution_count": 52,
   "metadata": {},
   "outputs": [
    {
     "name": "stdout",
     "output_type": "stream",
     "text": [
      "enter a and b values\n",
      "2\n",
      "3\n",
      "if a equal to b False\n",
      "is a not equal to b True\n",
      "is a<b True\n",
      "is a>b False\n"
     ]
    }
   ],
   "source": [
    "## relational operators\n",
    "print(\"enter a and b values\")\n",
    "a=input()\n",
    "b=input()\n",
    "print(\"if a equal to b\",a==b)\n",
    "print(\"is a not equal to b\",a!=b)\n",
    "print(\"is a<b\",a<b)\n",
    "print(\"is a>b\",a>b)"
   ]
  },
  {
   "cell_type": "code",
   "execution_count": 57,
   "metadata": {},
   "outputs": [
    {
     "name": "stdout",
     "output_type": "stream",
     "text": [
      "enter a value\n",
      "10\n",
      "False\n",
      "True\n",
      "True\n"
     ]
    }
   ],
   "source": [
    "## logical operators\n",
    "print(\"enter a value\")\n",
    "a=input()\n",
    "print(int(a)>=10 and int(a)<=5)\n",
    "print(int(a)>=10 or int(a)<=5)\n",
    "print(not int(a)<=5)"
   ]
  },
  {
   "cell_type": "code",
   "execution_count": 58,
   "metadata": {},
   "outputs": [
    {
     "name": "stdout",
     "output_type": "stream",
     "text": [
      "aarthi\n",
      "True\n",
      "False\n"
     ]
    }
   ],
   "source": [
    "## membership operators\n",
    "str1=input()\n",
    "print('a'in str1)\n",
    "print('a'not in str1)"
   ]
  },
  {
   "cell_type": "markdown",
   "metadata": {},
   "source": [
    "## conditional statements\n",
    "1. if\n",
    "2. elif\n",
    "3. else\n",
    "\n",
    "syntax\n",
    "- if condition\n",
    "   \n",
    "   statements\n",
    "   \n",
    "- elif conditon\n",
    "   \n",
    "   statements\n",
    "   \n",
    "- else\n",
    "  \n",
    "  statements"
   ]
  },
  {
   "cell_type": "code",
   "execution_count": 77,
   "metadata": {},
   "outputs": [
    {
     "name": "stdout",
     "output_type": "stream",
     "text": [
      "5\n",
      "odd\n"
     ]
    }
   ],
   "source": [
    "## even or odd\n",
    "b=int(input())\n",
    "if b%2==0:\n",
    "    print(\"even\")\n",
    "else:\n",
    "    print(\"odd\")"
   ]
  },
  {
   "cell_type": "code",
   "execution_count": 82,
   "metadata": {},
   "outputs": [
    {
     "name": "stdout",
     "output_type": "stream",
     "text": [
      "1\n",
      "8\n",
      "10\n",
      "c is greatest 10\n"
     ]
    }
   ],
   "source": [
    "## big of 3 nos\n",
    "a=int(input())\n",
    "b=int(input())\n",
    "c=int(input())\n",
    "if (a>b) and (a>c): \n",
    "    print(\"a is greater\",a)\n",
    "elif (b>a) and(b>c):\n",
    "     print(\"b is greater\",b)\n",
    "else:\n",
    "    print(\"c is greatest\",c)\n",
    "\n",
    "    \n"
   ]
  },
  {
   "cell_type": "code",
   "execution_count": 4,
   "metadata": {},
   "outputs": [
    {
     "name": "stdout",
     "output_type": "stream",
     "text": [
      "15\n",
      "a is divisible by 3 and 5\n"
     ]
    }
   ],
   "source": [
    "## divisible by 3 and 5\n",
    "a=int(input())\n",
    "if (a%3==0)and(a%5==0): \n",
    "    print(\"a is divisible by 3 and 5\")\n",
    "else:\n",
    "    print(\"not divisible\")\n"
   ]
  },
  {
   "cell_type": "code",
   "execution_count": 7,
   "metadata": {},
   "outputs": [
    {
     "name": "stdout",
     "output_type": "stream",
     "text": [
      "0\n",
      "0\n"
     ]
    }
   ],
   "source": [
    "### positive negative or zero\n",
    "a=int(input())\n",
    "if(a>0):\n",
    "    print(\"+ve\")\n",
    "elif(a<0):\n",
    "    print(\"-ve\")\n",
    "else:\n",
    "    print(\"0\")"
   ]
  },
  {
   "cell_type": "code",
   "execution_count": 12,
   "metadata": {},
   "outputs": [
    {
     "name": "stdout",
     "output_type": "stream",
     "text": [
      "enter the yr no\n",
      "2000\n",
      "leap yr\n"
     ]
    }
   ],
   "source": [
    "## leap year\n",
    "print(\"enter the yr no\")\n",
    "a=int(input())\n",
    "if(a%4==0):\n",
    "    print(\"leap yr\")\n",
    "else:\n",
    "    print(\"not a leap yr\")\n",
    " "
   ]
  },
  {
   "cell_type": "code",
   "execution_count": 16,
   "metadata": {},
   "outputs": [
    {
     "name": "stdout",
     "output_type": "stream",
     "text": [
      "enter age\n",
      "0\n",
      "not eligible\n"
     ]
    }
   ],
   "source": [
    "## vote or not elgibility\n",
    "print(\"enter age\")\n",
    "age=int(input())\n",
    "if(age>=18):\n",
    "    print(\"eligible\")\n",
    "else:\n",
    "    print(\"not eligible\")"
   ]
  },
  {
   "cell_type": "code",
   "execution_count": null,
   "metadata": {},
   "outputs": [],
   "source": []
  }
 ],
 "metadata": {
  "kernelspec": {
   "display_name": "Python 3",
   "language": "python",
   "name": "python3"
  },
  "language_info": {
   "codemirror_mode": {
    "name": "ipython",
    "version": 3
   },
   "file_extension": ".py",
   "mimetype": "text/x-python",
   "name": "python",
   "nbconvert_exporter": "python",
   "pygments_lexer": "ipython3",
   "version": "3.7.3"
  }
 },
 "nbformat": 4,
 "nbformat_minor": 2
}
